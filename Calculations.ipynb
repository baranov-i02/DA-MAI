{
 "cells": [
  {
   "cell_type": "code",
   "execution_count": null,
   "id": "1feaef25-1780-4299-a1bf-e5e3bc1c2e88",
   "metadata": {},
   "outputs": [],
   "source": [
    "Матрицы. Вариант 2"
   ]
  },
  {
   "cell_type": "code",
   "execution_count": 82,
   "id": "f9a83aeb-0344-4982-a17d-ca702d7cc9c6",
   "metadata": {},
   "outputs": [],
   "source": [
    "import numpy as np\n",
    "import sympy as sp\n",
    "import matplotlib.pyplot as plt"
   ]
  },
  {
   "cell_type": "code",
   "execution_count": 105,
   "id": "5f4cd831-12e1-4b55-b614-785b2cabb340",
   "metadata": {},
   "outputs": [
    {
     "name": "stdin",
     "output_type": "stream",
     "text": [
      " 3\n",
      " 3\n",
      " 1 2 3 4 5 6 7 8 9\n"
     ]
    },
    {
     "name": "stdout",
     "output_type": "stream",
     "text": [
      "[[1 2 3]\n",
      " [4 5 6]\n",
      " [7 8 9]]\n",
      "------------\n",
      "[3 6 9]\n",
      "------------\n",
      "[[3]\n",
      " [6]\n",
      " [9]]\n",
      "------------\n",
      "[[7 8 9]]\n",
      "------------\n",
      "[[0]]\n",
      "------------\n",
      "[[1 2 3 3]\n",
      " [4 5 6 6]\n",
      " [7 8 9 9]]\n",
      "------------\n",
      "[[7 8 9 0 0]]\n",
      "------------\n",
      "[[1 2 3 3]\n",
      " [4 5 6 6]\n",
      " [7 8 9 9]\n",
      " [7 8 9 0]]\n"
     ]
    }
   ],
   "source": [
    "import numpy as np\n",
    "a = int(input())\n",
    "b = int(input())\n",
    "stroka = input()\n",
    "chislostroki = stroka.split()\n",
    "massiv = np.array([int(a) for a in chislostroki])\n",
    "S = np.reshape(massiv, (a, b))\n",
    "print(S)\n",
    "print(\"------------\")\n",
    "print(S.max(axis=1))\n",
    "print(\"------------\")\n",
    "pst=np.array([S.max(axis=1)])\n",
    "pst=np.transpose(pst)\n",
    "print(pst)\n",
    "print(\"------------\")\n",
    "p=np.array([S.max(axis=0)])\n",
    "print(p)\n",
    "print(\"------------\")\n",
    "\n",
    "dot=np.array([[0]])\n",
    "dot=np.transpose(dot)\n",
    "print(dot)\n",
    "\n",
    "print(\"------------\")\n",
    "S = np.concatenate((S,pst), axis = 1)\n",
    "print(S)\n",
    "print(\"------------\")\n",
    "p = np.concatenate((p,dot), axis = 1)\n",
    "print(np.concatenate((p,dot), axis = 1))\n",
    "print(\"------------\")\n",
    "print(np.concatenate((S,p), axis = 0))"
   ]
  },
  {
   "cell_type": "code",
   "execution_count": null,
   "id": "a064e58a-b42b-4248-a10b-a0d505ad7019",
   "metadata": {},
   "outputs": [],
   "source": [
    "Символьные вычисления. Вариант 12"
   ]
  },
  {
   "cell_type": "code",
   "execution_count": 83,
   "id": "0ca4eb45-d573-4fec-8f48-e37de0243814",
   "metadata": {},
   "outputs": [
    {
     "name": "stdout",
     "output_type": "stream",
     "text": [
      "Решение диффура:\n",
      "Eq(y(x), (C1 + x)/(-C1 + x))\n",
      "График:\n"
     ]
    },
    {
     "data": {
      "image/png": "[encoded data removed]",
      "text/plain": [
       "<Figure size 432x288 with 1 Axes>"
      ]
     },
     "metadata": {
      "needs_background": "light"
     },
     "output_type": "display_data"
    }
   ],
   "source": [
    "x = sp.Symbol('x')\n",
    "y = sp.symbols('y', cls = sp.Function)\n",
    "Deq = sp.dsolve(sp.Eq(2*x*y(x).diff(x)+y(x)**2, 1))\n",
    "print('Решение диффура:')\n",
    "print(Deq)\n",
    "print('График:')\n",
    "for i in np.arange(0,4,0.5):\n",
    "    f = sp.lambdify(x,sp.Subs(Deq.rhs,['C1'],[i]).doit())\n",
    "    x_Vals = np.linspace(0,5,200)\n",
    "    y_Vals = [f(x) for x in x_Vals]\n",
    "    plt.plot(x_Vals, y_Vals)\n",
    "plt.grid()"
   ]
  },
  {
   "cell_type": "code",
   "execution_count": null,
   "id": "ed451bed-ae99-4549-af40-35830ab7397a",
   "metadata": {},
   "outputs": [],
   "source": [
    "Символьные вычисления. Вариант 10"
   ]
  },
  {
   "cell_type": "code",
   "execution_count": 85,
   "id": "6044d76b-9588-4ea8-957c-96374b3755e9",
   "metadata": {},
   "outputs": [
    {
     "name": "stdout",
     "output_type": "stream",
     "text": [
      "Решение системы:\n",
      "[(-2, -3), (2, 3), (-sqrt(6)*I/6, sqrt(6)*I/6), (sqrt(6)*I/6, -sqrt(6)*I/6)]\n"
     ]
    }
   ],
   "source": [
    "x,y = sp.symbols('x, y')\n",
    "A = sp.Eq(3*x**2+x*y-2*y**2, 0)\n",
    "B = sp.Eq(2*x**2-3*x*y+y**2, -1)\n",
    "print('Решение системы:')\n",
    "print(sp.solve([A,B],[x,y]))"
   ]
  },
  {
   "cell_type": "code",
   "execution_count": null,
   "id": "5ef26d14-b64d-43b6-89b1-f05c236028d8",
   "metadata": {},
   "outputs": [],
   "source": [
    "Численные решения уравнений. Вариант 3"
   ]
  },
  {
   "cell_type": "code",
   "execution_count": 88,
   "id": "7c9abfb6-78b5-49d1-aca3-799a3b7d4978",
   "metadata": {},
   "outputs": [
    {
     "name": "stdout",
     "output_type": "stream",
     "text": [
      "[-3.27474739]\n",
      "[-1.96878065]\n",
      "[1.19442081]\n",
      "[4.73765415]\n"
     ]
    },
    {
     "data": {
      "image/png": "[encoded data removed]",
      "text/plain": [
       "<Figure size 432x288 with 1 Axes>"
      ]
     },
     "metadata": {
      "needs_background": "light"
     },
     "output_type": "display_data"
    }
   ],
   "source": [
    "import scipy.optimize as sc\n",
    "import matplotlib.pyplot as plt\n",
    "F=(5*sp.cos(x)+0.25*x**2-x-1)    # sympy функция, А НЕ УРАВНЕНИЯ\n",
    "f=sp.lambdify(x,F)           # превращение символьной формулы в питонскую функцию\n",
    "\n",
    "x_Vals=np.linspace(-5,5,100)\n",
    "f_Vals=[f(x) for x in x_Vals]\n",
    "plt.plot(x_Vals,f_Vals)\n",
    "plt.grid()\n",
    "plt.plot([x_Vals[0],x_Vals[-1]],[0,0])\n",
    "\n",
    "print(sc.root(f,-3.55).x)             # численное решение уравнения. Зависит от начальной точки.\n",
    "print(sc.root(f,-2).x)\n",
    "print(sc.root(f,1.55).x)\n",
    "print(sc.root(f,4.40).x)"
   ]
  },
  {
   "cell_type": "code",
   "execution_count": null,
   "id": "f1022cf2-11d8-4b28-a5da-19b5245ec33d",
   "metadata": {},
   "outputs": [],
   "source": [
    "Символьные вычисления. Вариант 1"
   ]
  },
  {
   "cell_type": "code",
   "execution_count": 99,
   "id": "c5ac214b-c3a5-4012-810b-1441ef74fd0e",
   "metadata": {},
   "outputs": [
    {
     "name": "stdout",
     "output_type": "stream",
     "text": [
      "Введите функцию от t\n"
     ]
    },
    {
     "name": "stdin",
     "output_type": "stream",
     "text": [
      " t*exp(-t**2/10)\n"
     ]
    },
    {
     "name": "stdout",
     "output_type": "stream",
     "text": [
      "Введите пределы изменения t через пробел\n"
     ]
    },
    {
     "name": "stdin",
     "output_type": "stream",
     "text": [
      " -5 0\n"
     ]
    },
    {
     "name": "stdout",
     "output_type": "stream",
     "text": [
      "[-5, 0]\n",
      "Производная:\n",
      "-t**2*exp(-t**2/10)/5 + exp(-t**2/10)\n",
      "Интеграл:\n",
      "-5*exp(-t**2/10)\n",
      "Проверка:\n",
      "t*exp(-t**2/10)\n"
     ]
    },
    {
     "data": {
      "image/png": "[encoded data removed]",
      "text/plain": [
       "<Figure size 432x288 with 1 Axes>"
      ]
     },
     "metadata": {
      "needs_background": "light"
     },
     "output_type": "display_data"
    }
   ],
   "source": [
    "t = sp.Symbol('t')\n",
    "print('Введите функцию от t')\n",
    "F = input()\n",
    "exp = sp.simplify(F)\n",
    "f = sp.lambdify(t,exp)\n",
    "print('Введите пределы изменения t через пробел')\n",
    "Num = [int(n) for n in input().split(' ')]\n",
    "print(Num)\n",
    "x_Vals = np.linspace(Num[0],Num[1],200)\n",
    "y_Vals = [f(x) for x in x_Vals]\n",
    "plt.plot(x_Vals, y_Vals)\n",
    "plt.grid()\n",
    "Df=sp.diff(F,t)    # Считаем от неё производную\n",
    "print(\"Производная:\")\n",
    "print(Df)\n",
    "If=sp.integrate(F,t)  # Интеграл   ну и где наша константа? \n",
    "print(\"Интеграл:\")\n",
    "print(If)\n",
    "print(\"Проверка:\")\n",
    "print(sp.diff(If,t))  # проверка - производная от интеграла"
   ]
  },
  {
   "cell_type": "code",
   "execution_count": null,
   "id": "c82cdf13-cbfb-4a46-b87b-72115ea72eaa",
   "metadata": {},
   "outputs": [],
   "source": [
    "Численное решение уравнений. Вариант 8"
   ]
  },
  {
   "cell_type": "code",
   "execution_count": 3,
   "id": "1e93cf76-82ae-4a34-8bd7-a890f12b553d",
   "metadata": {},
   "outputs": [
    {
     "name": "stdout",
     "output_type": "stream",
     "text": [
      "[[0.         1.        ]\n",
      " [0.00199601 1.000001  ]\n",
      " [0.00398404 1.00000399]\n",
      " ...\n",
      " [0.35393615 1.39111162]\n",
      " [0.35373808 1.39160393]\n",
      " [0.35353983 1.39209614]]\n"
     ]
    },
    {
     "data": {
      "image/png": "[encoded data removed]",
      "text/plain": [
       "<Figure size 432x288 with 1 Axes>"
      ]
     },
     "metadata": {
      "needs_background": "light"
     },
     "output_type": "display_data"
    }
   ],
   "source": [
    "import numpy as np\n",
    "import matplotlib.pyplot as plt\n",
    "from scipy.integrate import odeint\n",
    "\n",
    "def odesys(point,t):\n",
    "    dx=4 - 4*point[0] - 2*point[1]\n",
    "    dy=point[0]*point[1]\n",
    "    return [dx,dy]\n",
    "point0=[0,1]\n",
    "t=np.linspace(0,1,1001)\n",
    "X=odeint(odesys,point0,t)\n",
    "print(X)\n",
    "plt.plot(X[:,1],X[:,0])\n",
    "plt.grid()"
   ]
  }
 ],
 "metadata": {
  "kernelspec": {
   "display_name": "Python 3 (ipykernel)",
   "language": "python",
   "name": "python3"
  },
  "language_info": {
   "codemirror_mode": {
    "name": "ipython",
    "version": 3
   },
   "file_extension": ".py",
   "mimetype": "text/x-python",
   "name": "python",
   "nbconvert_exporter": "python",
   "pygments_lexer": "ipython3",
   "version": "3.11.1"
  }
 },
 "nbformat": 4,
 "nbformat_minor": 5
}
